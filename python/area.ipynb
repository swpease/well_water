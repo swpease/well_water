{
 "cells": [
  {
   "cell_type": "markdown",
   "id": "218041b5",
   "metadata": {},
   "source": [
    "Just seeing how to get area estimates."
   ]
  },
  {
   "cell_type": "code",
   "execution_count": null,
   "id": "c337bb38",
   "metadata": {},
   "outputs": [],
   "source": [
    "import geopandas"
   ]
  },
  {
   "cell_type": "markdown",
   "id": "aa31d37e",
   "metadata": {},
   "source": [
    "Don't need to go to X.shp; can stop at parent dir X"
   ]
  },
  {
   "cell_type": "code",
   "execution_count": 9,
   "id": "61baffff",
   "metadata": {},
   "outputs": [],
   "source": [
    "WWR_data = geopandas.read_file(\"/Users/Scott/QGIS/SVI/Penn_Analysis/data/TL_well_water_regions.gpkg\", layer=\"WellWaterRegions\")\n",
    "TL_data = geopandas.read_file(\"/Users/Scott/QGIS/SVI/Penn_Analysis/data/tl_2022_42_tract/tl_2022_42_tract.shp\")"
   ]
  },
  {
   "cell_type": "code",
   "execution_count": null,
   "id": "7e38ff76",
   "metadata": {},
   "outputs": [],
   "source": [
    "TL_data"
   ]
  },
  {
   "cell_type": "code",
   "execution_count": null,
   "id": "12bb02c4",
   "metadata": {},
   "outputs": [],
   "source": [
    "WWR_data"
   ]
  },
  {
   "cell_type": "code",
   "execution_count": 10,
   "id": "a4f161f8",
   "metadata": {},
   "outputs": [
    {
     "data": {
      "text/plain": [
       "<Geographic 2D CRS: EPSG:4269>\n",
       "Name: NAD83\n",
       "Axis Info [ellipsoidal]:\n",
       "- Lat[north]: Geodetic latitude (degree)\n",
       "- Lon[east]: Geodetic longitude (degree)\n",
       "Area of Use:\n",
       "- name: North America - onshore and offshore: Canada - Alberta; British Columbia; Manitoba; New Brunswick; Newfoundland and Labrador; Northwest Territories; Nova Scotia; Nunavut; Ontario; Prince Edward Island; Quebec; Saskatchewan; Yukon. Puerto Rico. United States (USA) - Alabama; Alaska; Arizona; Arkansas; California; Colorado; Connecticut; Delaware; Florida; Georgia; Hawaii; Idaho; Illinois; Indiana; Iowa; Kansas; Kentucky; Louisiana; Maine; Maryland; Massachusetts; Michigan; Minnesota; Mississippi; Missouri; Montana; Nebraska; Nevada; New Hampshire; New Jersey; New Mexico; New York; North Carolina; North Dakota; Ohio; Oklahoma; Oregon; Pennsylvania; Rhode Island; South Carolina; South Dakota; Tennessee; Texas; Utah; Vermont; Virginia; Washington; West Virginia; Wisconsin; Wyoming. US Virgin Islands. British Virgin Islands.\n",
       "- bounds: (167.65, 14.92, -40.73, 86.45)\n",
       "Datum: North American Datum 1983\n",
       "- Ellipsoid: GRS 1980\n",
       "- Prime Meridian: Greenwich"
      ]
     },
     "execution_count": 10,
     "metadata": {},
     "output_type": "execute_result"
    }
   ],
   "source": [
    "TL_data.crs"
   ]
  },
  {
   "cell_type": "code",
   "execution_count": 11,
   "id": "3a0c7bad",
   "metadata": {},
   "outputs": [
    {
     "data": {
      "text/plain": [
       "<Geographic 2D CRS: EPSG:4269>\n",
       "Name: NAD83\n",
       "Axis Info [ellipsoidal]:\n",
       "- Lat[north]: Geodetic latitude (degree)\n",
       "- Lon[east]: Geodetic longitude (degree)\n",
       "Area of Use:\n",
       "- name: North America - onshore and offshore: Canada - Alberta; British Columbia; Manitoba; New Brunswick; Newfoundland and Labrador; Northwest Territories; Nova Scotia; Nunavut; Ontario; Prince Edward Island; Quebec; Saskatchewan; Yukon. Puerto Rico. United States (USA) - Alabama; Alaska; Arizona; Arkansas; California; Colorado; Connecticut; Delaware; Florida; Georgia; Hawaii; Idaho; Illinois; Indiana; Iowa; Kansas; Kentucky; Louisiana; Maine; Maryland; Massachusetts; Michigan; Minnesota; Mississippi; Missouri; Montana; Nebraska; Nevada; New Hampshire; New Jersey; New Mexico; New York; North Carolina; North Dakota; Ohio; Oklahoma; Oregon; Pennsylvania; Rhode Island; South Carolina; South Dakota; Tennessee; Texas; Utah; Vermont; Virginia; Washington; West Virginia; Wisconsin; Wyoming. US Virgin Islands. British Virgin Islands.\n",
       "- bounds: (167.65, 14.92, -40.73, 86.45)\n",
       "Datum: North American Datum 1983\n",
       "- Ellipsoid: GRS 1980\n",
       "- Prime Meridian: Greenwich"
      ]
     },
     "execution_count": 11,
     "metadata": {},
     "output_type": "execute_result"
    }
   ],
   "source": [
    "WWR_data.crs"
   ]
  },
  {
   "cell_type": "code",
   "execution_count": 12,
   "id": "e25414a6",
   "metadata": {},
   "outputs": [
    {
     "data": {
      "text/plain": [
       "True"
      ]
     },
     "execution_count": 12,
     "metadata": {},
     "output_type": "execute_result"
    }
   ],
   "source": [
    "WWR_data.crs == TL_data.crs"
   ]
  },
  {
   "cell_type": "code",
   "execution_count": 14,
   "id": "5b19f1dc",
   "metadata": {},
   "outputs": [
    {
     "name": "stderr",
     "output_type": "stream",
     "text": [
      "/var/folders/4q/dw6r1yn91mj48c6b_t0zjv380000gn/T/ipykernel_4878/761049072.py:1: UserWarning: Geometry is in a geographic CRS. Results from 'area' are likely incorrect. Use 'GeoSeries.to_crs()' to re-project geometries to a projected CRS before this operation.\n",
      "\n",
      "  nad83_area_prop = WWR_data.area / TL_data.area\n"
     ]
    }
   ],
   "source": [
    "nad83_area_prop = WWR_data.area / TL_data.area"
   ]
  },
  {
   "cell_type": "markdown",
   "id": "90b90a73",
   "metadata": {},
   "source": [
    "I get these warnings on area accuracy, but there are small differences in the estimates after converting to a projected CRS:"
   ]
  },
  {
   "cell_type": "code",
   "execution_count": 17,
   "id": "9539c6fd",
   "metadata": {},
   "outputs": [],
   "source": [
    "WWR_data_3857 = WWR_data.to_crs(epsg=3857)\n",
    "TL_data_3857 = TL_data.to_crs(epsg=3857)"
   ]
  },
  {
   "cell_type": "code",
   "execution_count": 16,
   "id": "f1fecdb7",
   "metadata": {},
   "outputs": [
    {
     "data": {
      "text/plain": [
       "<Projected CRS: EPSG:3857>\n",
       "Name: WGS 84 / Pseudo-Mercator\n",
       "Axis Info [cartesian]:\n",
       "- X[east]: Easting (metre)\n",
       "- Y[north]: Northing (metre)\n",
       "Area of Use:\n",
       "- name: World between 85.06°S and 85.06°N.\n",
       "- bounds: (-180.0, -85.06, 180.0, 85.06)\n",
       "Coordinate Operation:\n",
       "- name: Popular Visualisation Pseudo-Mercator\n",
       "- method: Popular Visualisation Pseudo Mercator\n",
       "Datum: World Geodetic System 1984 ensemble\n",
       "- Ellipsoid: WGS 84\n",
       "- Prime Meridian: Greenwich"
      ]
     },
     "execution_count": 16,
     "metadata": {},
     "output_type": "execute_result"
    }
   ],
   "source": [
    "WWR_data_3857.crs"
   ]
  },
  {
   "cell_type": "code",
   "execution_count": 18,
   "id": "b9ef71b8",
   "metadata": {},
   "outputs": [
    {
     "data": {
      "text/plain": [
       "<Projected CRS: EPSG:3857>\n",
       "Name: WGS 84 / Pseudo-Mercator\n",
       "Axis Info [cartesian]:\n",
       "- X[east]: Easting (metre)\n",
       "- Y[north]: Northing (metre)\n",
       "Area of Use:\n",
       "- name: World between 85.06°S and 85.06°N.\n",
       "- bounds: (-180.0, -85.06, 180.0, 85.06)\n",
       "Coordinate Operation:\n",
       "- name: Popular Visualisation Pseudo-Mercator\n",
       "- method: Popular Visualisation Pseudo Mercator\n",
       "Datum: World Geodetic System 1984 ensemble\n",
       "- Ellipsoid: WGS 84\n",
       "- Prime Meridian: Greenwich"
      ]
     },
     "execution_count": 18,
     "metadata": {},
     "output_type": "execute_result"
    }
   ],
   "source": [
    "TL_data_3857.crs"
   ]
  },
  {
   "cell_type": "code",
   "execution_count": 20,
   "id": "08cbd9ce",
   "metadata": {},
   "outputs": [],
   "source": [
    "pseudoMerc_area_prop = WWR_data_3857.area / TL_data_3857.area"
   ]
  },
  {
   "cell_type": "code",
   "execution_count": 21,
   "id": "f8ec51fa",
   "metadata": {},
   "outputs": [],
   "source": [
    "pct_diff = abs(pseudoMerc_area_prop - nad83_area_prop) /pseudoMerc_area_prop "
   ]
  },
  {
   "cell_type": "code",
   "execution_count": 22,
   "id": "6dc73b31",
   "metadata": {},
   "outputs": [
    {
     "data": {
      "text/plain": [
       "0.037118254839830465"
      ]
     },
     "execution_count": 22,
     "metadata": {},
     "output_type": "execute_result"
    }
   ],
   "source": [
    "max(pct_diff)"
   ]
  }
 ],
 "metadata": {
  "kernelspec": {
   "display_name": "Python 3",
   "language": "python",
   "name": "python3"
  },
  "language_info": {
   "codemirror_mode": {
    "name": "ipython",
    "version": 3
   },
   "file_extension": ".py",
   "mimetype": "text/x-python",
   "name": "python",
   "nbconvert_exporter": "python",
   "pygments_lexer": "ipython3",
   "version": "3.12.11"
  }
 },
 "nbformat": 4,
 "nbformat_minor": 5
}
