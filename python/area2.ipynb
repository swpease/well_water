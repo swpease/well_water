{
 "cells": [
  {
   "cell_type": "code",
   "execution_count": 2,
   "id": "bd5f8342",
   "metadata": {},
   "outputs": [],
   "source": [
    "import geopandas"
   ]
  },
  {
   "cell_type": "code",
   "execution_count": 3,
   "id": "5c209a2b",
   "metadata": {},
   "outputs": [],
   "source": [
    "WWR_data = geopandas.read_file(\"/Users/Scott/QGIS/SVI/Penn_Analysis/data/TL_well_water_regions.gpkg\", layer=\"WellWaterRegions\")\n",
    "TL_data = geopandas.read_file(\"/Users/Scott/QGIS/SVI/Penn_Analysis/data/tl_2022_42_tract/tl_2022_42_tract.shp\")"
   ]
  },
  {
   "cell_type": "markdown",
   "id": "35626117",
   "metadata": {},
   "source": [
    "Need a good projection for area, b/c geopandas doesn't do ellipsoidal areas.\n",
    "\n",
    "PA is split into N as S by the [SPCS](https://www.usgs.gov/faqs/what-state-plane-coordinate-system-can-gps-provide-coordinates-these-values). I'll just go with 6564 (S, in meters), which provides area accuracy even in N PA to three digits, based on spot checks. I also tried out EPSG:32618, but it seemed to give slightly worse results. "
   ]
  },
  {
   "cell_type": "code",
   "execution_count": 4,
   "id": "70ee8122",
   "metadata": {},
   "outputs": [],
   "source": [
    "WWR_data_6564 = WWR_data.to_crs(epsg=6564)\n",
    "TL_data_6564 = TL_data.to_crs(epsg=6564)"
   ]
  },
  {
   "cell_type": "code",
   "execution_count": 5,
   "id": "a845b984",
   "metadata": {},
   "outputs": [],
   "source": [
    "WWR_data_6564[\"WW_area\"] = WWR_data_6564.area\n",
    "TL_data_6564[\"Tot_area\"] = TL_data_6564.area"
   ]
  },
  {
   "cell_type": "code",
   "execution_count": 11,
   "id": "9383e221",
   "metadata": {},
   "outputs": [],
   "source": [
    "WWR_data_6564_to_join = WWR_data_6564.loc[:, [\"GEOID\", \"WW_area\"]]\n",
    "data_merged_6564 = TL_data_6564.merge(\n",
    "    WWR_data_6564_to_join, \n",
    "    how=\"left\", \n",
    "    on=\"GEOID\"\n",
    ")"
   ]
  },
  {
   "cell_type": "code",
   "execution_count": 12,
   "id": "49039df6",
   "metadata": {},
   "outputs": [],
   "source": [
    "data_merged_6564[\"frac_WW\"] = data_merged_6564[\"WW_area\"] / data_merged_6564[\"Tot_area\"]"
   ]
  }
 ],
 "metadata": {
  "kernelspec": {
   "display_name": "Python 3",
   "language": "python",
   "name": "python3"
  },
  "language_info": {
   "codemirror_mode": {
    "name": "ipython",
    "version": 3
   },
   "file_extension": ".py",
   "mimetype": "text/x-python",
   "name": "python",
   "nbconvert_exporter": "python",
   "pygments_lexer": "ipython3",
   "version": "3.12.11"
  }
 },
 "nbformat": 4,
 "nbformat_minor": 5
}
